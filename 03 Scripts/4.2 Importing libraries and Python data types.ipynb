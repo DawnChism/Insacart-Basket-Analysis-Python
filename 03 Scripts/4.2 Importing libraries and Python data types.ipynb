{
 "cells": [
  {
   "cell_type": "markdown",
   "id": "d4798a1b-83a4-4cad-8c2c-8e8a0b0b9e9d",
   "metadata": {},
   "source": [
    "#Contents List\n",
    "##Import Libraries\n",
    "##Code 3 different ways of reaching a result of 100 by adding or subtracting numeric variables\n",
    "##Code 2 floating-point variables and divide them by each other\n",
    "##Construct a short word made of separate strings\n",
    "##Construct 2 short sentences made of separate strings.\n",
    "##Repeat sentence 100 times"
   ]
  },
  {
   "cell_type": "markdown",
   "id": "578ec5d6",
   "metadata": {},
   "source": [
    "#01. Importing libraries"
   ]
  },
  {
   "cell_type": "code",
   "execution_count": 1,
   "id": "3c815ead",
   "metadata": {},
   "outputs": [],
   "source": [
    "# Import libraries\n",
    "import pandas as pd\n",
    "import numpy as np\n",
    "import os"
   ]
  },
  {
   "cell_type": "markdown",
   "id": "eb6dc534",
   "metadata": {},
   "source": [
    "#02.Data types"
   ]
  },
  {
   "cell_type": "code",
   "execution_count": 24,
   "id": "6e3540ac",
   "metadata": {},
   "outputs": [],
   "source": [
    "#Code 3 different ways of reaching a result of 100 by adding or subtracting numeric variables\n",
    "x = 100"
   ]
  },
  {
   "cell_type": "code",
   "execution_count": 8,
   "id": "82035007",
   "metadata": {},
   "outputs": [],
   "source": [
    "y = 200"
   ]
  },
  {
   "cell_type": "code",
   "execution_count": 10,
   "id": "45e0e54b",
   "metadata": {
    "scrolled": true
   },
   "outputs": [
    {
     "name": "stdout",
     "output_type": "stream",
     "text": [
      "200\n"
     ]
    }
   ],
   "source": [
    "print(y)"
   ]
  },
  {
   "cell_type": "code",
   "execution_count": 11,
   "id": "01bde1c9",
   "metadata": {},
   "outputs": [
    {
     "name": "stdout",
     "output_type": "stream",
     "text": [
      "100\n"
     ]
    }
   ],
   "source": [
    "print(x)"
   ]
  },
  {
   "cell_type": "code",
   "execution_count": 12,
   "id": "9e394239",
   "metadata": {},
   "outputs": [
    {
     "data": {
      "text/plain": [
       "100"
      ]
     },
     "execution_count": 12,
     "metadata": {},
     "output_type": "execute_result"
    }
   ],
   "source": [
    "y-x"
   ]
  },
  {
   "cell_type": "code",
   "execution_count": 14,
   "id": "86f688b2",
   "metadata": {},
   "outputs": [],
   "source": [
    "a = 25"
   ]
  },
  {
   "cell_type": "code",
   "execution_count": 15,
   "id": "f34cc993",
   "metadata": {},
   "outputs": [],
   "source": [
    "b = 50"
   ]
  },
  {
   "cell_type": "code",
   "execution_count": 16,
   "id": "6e99657c",
   "metadata": {},
   "outputs": [
    {
     "data": {
      "text/plain": [
       "100"
      ]
     },
     "execution_count": 16,
     "metadata": {},
     "output_type": "execute_result"
    }
   ],
   "source": [
    "a + a + b"
   ]
  },
  {
   "cell_type": "code",
   "execution_count": 17,
   "id": "8e9a4db2",
   "metadata": {},
   "outputs": [],
   "source": [
    "c = 75"
   ]
  },
  {
   "cell_type": "code",
   "execution_count": 18,
   "id": "6c899e51",
   "metadata": {},
   "outputs": [
    {
     "data": {
      "text/plain": [
       "100"
      ]
     },
     "execution_count": 18,
     "metadata": {},
     "output_type": "execute_result"
    }
   ],
   "source": [
    "a + c "
   ]
  },
  {
   "cell_type": "code",
   "execution_count": 25,
   "id": "4bca34ee",
   "metadata": {},
   "outputs": [],
   "source": [
    "#Code 2 floating-point variables and divide them by each other\n",
    "d = 15.9568"
   ]
  },
  {
   "cell_type": "code",
   "execution_count": 22,
   "id": "fdfb7262",
   "metadata": {},
   "outputs": [],
   "source": [
    "e = 984.5691"
   ]
  },
  {
   "cell_type": "code",
   "execution_count": 23,
   "id": "56eb8f71",
   "metadata": {},
   "outputs": [
    {
     "data": {
      "text/plain": [
       "61.7021645944049"
      ]
     },
     "execution_count": 23,
     "metadata": {},
     "output_type": "execute_result"
    }
   ],
   "source": [
    "e / d"
   ]
  },
  {
   "cell_type": "code",
   "execution_count": 83,
   "id": "be3fbef4",
   "metadata": {},
   "outputs": [],
   "source": [
    "#Construct a short word made of separate strings\n",
    "f = 'twenty-'"
   ]
  },
  {
   "cell_type": "code",
   "execution_count": 84,
   "id": "5f380c95",
   "metadata": {},
   "outputs": [],
   "source": [
    "g = 'one'"
   ]
  },
  {
   "cell_type": "code",
   "execution_count": 85,
   "id": "851ae4a1",
   "metadata": {},
   "outputs": [
    {
     "data": {
      "text/plain": [
       "str"
      ]
     },
     "execution_count": 85,
     "metadata": {},
     "output_type": "execute_result"
    }
   ],
   "source": [
    "type(f)"
   ]
  },
  {
   "cell_type": "code",
   "execution_count": 86,
   "id": "0792d0eb",
   "metadata": {},
   "outputs": [
    {
     "data": {
      "text/plain": [
       "str"
      ]
     },
     "execution_count": 86,
     "metadata": {},
     "output_type": "execute_result"
    }
   ],
   "source": [
    "type(g)"
   ]
  },
  {
   "cell_type": "code",
   "execution_count": 87,
   "id": "bc96f664",
   "metadata": {},
   "outputs": [
    {
     "data": {
      "text/plain": [
       "'twenty-one'"
      ]
     },
     "execution_count": 87,
     "metadata": {},
     "output_type": "execute_result"
    }
   ],
   "source": [
    "f+g"
   ]
  },
  {
   "cell_type": "code",
   "execution_count": 88,
   "id": "12e555c8",
   "metadata": {},
   "outputs": [],
   "source": [
    "#Construct 2 short sentences made of separate strings.\n",
    "h = 'How '"
   ]
  },
  {
   "cell_type": "code",
   "execution_count": 89,
   "id": "93d84223",
   "metadata": {},
   "outputs": [],
   "source": [
    "i = \"are \""
   ]
  },
  {
   "cell_type": "code",
   "execution_count": 90,
   "id": "c96d24da",
   "metadata": {},
   "outputs": [],
   "source": [
    "j = \"you?\""
   ]
  },
  {
   "cell_type": "code",
   "execution_count": 91,
   "id": "6e839272",
   "metadata": {},
   "outputs": [
    {
     "data": {
      "text/plain": [
       "'How are you?'"
      ]
     },
     "execution_count": 91,
     "metadata": {},
     "output_type": "execute_result"
    }
   ],
   "source": [
    "h + i + j"
   ]
  },
  {
   "cell_type": "code",
   "execution_count": 92,
   "id": "57c1048d",
   "metadata": {},
   "outputs": [],
   "source": [
    "k = 'Nice '"
   ]
  },
  {
   "cell_type": "code",
   "execution_count": 98,
   "id": "0f1665e8",
   "metadata": {},
   "outputs": [],
   "source": [
    "l = 'to '"
   ]
  },
  {
   "cell_type": "code",
   "execution_count": 95,
   "id": "17f9de38",
   "metadata": {},
   "outputs": [],
   "source": [
    "m = 'meet '"
   ]
  },
  {
   "cell_type": "code",
   "execution_count": 96,
   "id": "ddceebda",
   "metadata": {},
   "outputs": [],
   "source": [
    "n = 'you!'"
   ]
  },
  {
   "cell_type": "code",
   "execution_count": 99,
   "id": "b8d22957",
   "metadata": {},
   "outputs": [
    {
     "data": {
      "text/plain": [
       "'Nice to meet you!'"
      ]
     },
     "execution_count": 99,
     "metadata": {},
     "output_type": "execute_result"
    }
   ],
   "source": [
    "k + l + m + n"
   ]
  },
  {
   "cell_type": "code",
   "execution_count": 100,
   "id": "36a5b0da",
   "metadata": {},
   "outputs": [
    {
     "data": {
      "text/plain": [
       "'Nice to meet you!Nice to meet you!Nice to meet you!Nice to meet you!Nice to meet you!Nice to meet you!Nice to meet you!Nice to meet you!Nice to meet you!Nice to meet you!Nice to meet you!Nice to meet you!Nice to meet you!Nice to meet you!Nice to meet you!Nice to meet you!Nice to meet you!Nice to meet you!Nice to meet you!Nice to meet you!Nice to meet you!Nice to meet you!Nice to meet you!Nice to meet you!Nice to meet you!Nice to meet you!Nice to meet you!Nice to meet you!Nice to meet you!Nice to meet you!Nice to meet you!Nice to meet you!Nice to meet you!Nice to meet you!Nice to meet you!Nice to meet you!Nice to meet you!Nice to meet you!Nice to meet you!Nice to meet you!Nice to meet you!Nice to meet you!Nice to meet you!Nice to meet you!Nice to meet you!Nice to meet you!Nice to meet you!Nice to meet you!Nice to meet you!Nice to meet you!Nice to meet you!Nice to meet you!Nice to meet you!Nice to meet you!Nice to meet you!Nice to meet you!Nice to meet you!Nice to meet you!Nice to meet you!Nice to meet you!Nice to meet you!Nice to meet you!Nice to meet you!Nice to meet you!Nice to meet you!Nice to meet you!Nice to meet you!Nice to meet you!Nice to meet you!Nice to meet you!Nice to meet you!Nice to meet you!Nice to meet you!Nice to meet you!Nice to meet you!Nice to meet you!Nice to meet you!Nice to meet you!Nice to meet you!Nice to meet you!Nice to meet you!Nice to meet you!Nice to meet you!Nice to meet you!Nice to meet you!Nice to meet you!Nice to meet you!Nice to meet you!Nice to meet you!Nice to meet you!Nice to meet you!Nice to meet you!Nice to meet you!Nice to meet you!Nice to meet you!Nice to meet you!Nice to meet you!Nice to meet you!Nice to meet you!Nice to meet you!'"
      ]
     },
     "execution_count": 100,
     "metadata": {},
     "output_type": "execute_result"
    }
   ],
   "source": [
    "(k+l+m+n)*100"
   ]
  },
  {
   "cell_type": "code",
   "execution_count": null,
   "id": "4b2cdb91",
   "metadata": {},
   "outputs": [],
   "source": []
  }
 ],
 "metadata": {
  "kernelspec": {
   "display_name": "Python 3 (ipykernel)",
   "language": "python",
   "name": "python3"
  },
  "language_info": {
   "codemirror_mode": {
    "name": "ipython",
    "version": 3
   },
   "file_extension": ".py",
   "mimetype": "text/x-python",
   "name": "python",
   "nbconvert_exporter": "python",
   "pygments_lexer": "ipython3",
   "version": "3.11.5"
  }
 },
 "nbformat": 4,
 "nbformat_minor": 5
}
