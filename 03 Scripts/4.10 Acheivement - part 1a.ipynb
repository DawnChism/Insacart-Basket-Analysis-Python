{
 "cells": [
  {
   "cell_type": "markdown",
   "id": "5a973ad6-8b8c-49d0-bf25-367104d47dd6",
   "metadata": {},
   "source": [
    "#Contents List\n",
    "##Import Libraries\n",
    "##Create Path\n",
    "##Import Data - orders_products_all.pkl\n",
    "##Remove First Name, Last Name, and _merge from the dataframe. First and Last name is PII data and not needed for the analysis. In addition, _merge is no longer needed, so it will be removed. \n",
    "##The Instacart officers are interested in comparing customer behavior in different geographic areas. Create a regional segmentation of the data. You’ll need to create a “Region” column based on the “State” column from your customers data set.\n",
    "##Frequency of the State column\n",
    "##Creating the for-loop\n",
    "##Combining with the df_ords_prods_all dataframe\n",
    "##Determine whether there’s a difference in spending habits between the different U.S. regions.\n",
    "##The Instacart CFO isn’t interested in customers who don’t generate much revenue for the app. Create an exclusion flag for low-activity customers (customers with less than 5 orders) and exclude them from the data.\n",
    "##Define the function\n",
    "##Apply the function\n",
    "##Export the sample - orders_products_all_exclusion_flag.pkl\n",
    "##Drop all rows that contain 'low_activity customer'\n",
    "##Print the resulting DataFrame\n",
    "##Frequency of the Age column\n",
    "##Describe the dataframe\n",
    "##Create age-groups\n",
    "##Frequency of the income column\n",
    "##Create age-groups\n",
    "##Create income-groups\n",
    "##Frequency of the Number_of_Dependants column\n",
    "##Frequency of the Familial_Status column\n",
    "##Create family_status column\n",
    "##Change data type of department_id to string in df_ords_prods_all\n",
    "##Change data type of product_id to string in df_ords_prods_all\n",
    "##Create a 70/30 sample\n",
    "##Save a palette to a variable\n",
    "##Use palplot and pass in the variable\n",
    "##Set the palette using the name of a palette\n",
    "##Key Question #2 - create a lineplot\n",
    "##Export the lineplot\n",
    "##Key Question #3 - create a histogram\n",
    "##Export the histogram\n",
    "##Export the dataframe as a pickle file. - orders_products_all_2.pkl"
   ]
  },
  {
   "cell_type": "code",
   "execution_count": 1,
   "id": "c94db17a-d8cb-42bc-a3ff-075fb71d7d88",
   "metadata": {},
   "outputs": [],
   "source": [
    "#Import Libraries\n",
    "import pandas as pd\n",
    "import numpy as np\n",
    "import os\n",
    "import matplotlib.pyplot as plt\n",
    "import seaborn as sns\n",
    "import scipy"
   ]
  },
  {
   "cell_type": "code",
   "execution_count": 2,
   "id": "d4e2c994-99fa-44c0-870f-f751b330366b",
   "metadata": {},
   "outputs": [],
   "source": [
    "#Path\n",
    "path = r'C:\\Users\\Family Computer\\Documents\\Data Analytics\\Instacart Basket Analysis'"
   ]
  },
  {
   "cell_type": "code",
   "execution_count": 3,
   "id": "507220bb-d2d2-45da-b905-cc487a33179e",
   "metadata": {},
   "outputs": [],
   "source": [
    "#Import orders_products_all.pkl\n",
    "df_ords_prods_all = pd.read_pickle(os.path.join(path, '02 Data', 'Prepared Data', 'orders_products_all.pkl'))"
   ]
  },
  {
   "cell_type": "code",
   "execution_count": 4,
   "id": "8d9cf8f8-358c-484b-8317-c61c43bcd68b",
   "metadata": {},
   "outputs": [
    {
     "data": {
      "text/plain": [
       "(32404859, 31)"
      ]
     },
     "execution_count": 4,
     "metadata": {},
     "output_type": "execute_result"
    }
   ],
   "source": [
    "df_ords_prods_all.shape"
   ]
  },
  {
   "cell_type": "code",
   "execution_count": null,
   "id": "61bb06f8-3dcd-4927-99c8-5a7c5ad6c0bd",
   "metadata": {},
   "outputs": [],
   "source": [
    "df_ords_prods_all.head()"
   ]
  },
  {
   "cell_type": "code",
   "execution_count": null,
   "id": "6724135d-2a98-4e80-aa06-67e4c155b443",
   "metadata": {},
   "outputs": [],
   "source": [
    "df_ords_prods_all.head()"
   ]
  },
  {
   "cell_type": "markdown",
   "id": "0bf1420f-a5e7-4070-972b-80774df2bd5b",
   "metadata": {},
   "source": [
    "##Remove First Name, Last Name, and _merge from the dataframe. First and Last name is PII data and not needed for the analysis. In addition, _merge is no longer needed, so it will be removed. "
   ]
  },
  {
   "cell_type": "code",
   "execution_count": 7,
   "id": "e6b206a9-766f-4e60-8dde-cc27b8735922",
   "metadata": {},
   "outputs": [],
   "source": [
    "df_ords_prods_all = df_ords_prods_all.drop(columns = ['First Name', 'Last Name', '_merge'])"
   ]
  },
  {
   "cell_type": "code",
   "execution_count": null,
   "id": "99a6235d-c759-4c38-864d-4205a1f00173",
   "metadata": {},
   "outputs": [],
   "source": [
    "df_ords_prods_all.head()"
   ]
  },
  {
   "cell_type": "code",
   "execution_count": 9,
   "id": "b58f6bcb-4b2d-4b36-b5c4-0d22b46372c2",
   "metadata": {},
   "outputs": [
    {
     "data": {
      "text/plain": [
       "(32404859, 28)"
      ]
     },
     "execution_count": 9,
     "metadata": {},
     "output_type": "execute_result"
    }
   ],
   "source": [
    "df_ords_prods_all.shape"
   ]
  },
  {
   "cell_type": "markdown",
   "id": "fad09cd3-e6f0-4b99-9392-41a57617d23a",
   "metadata": {},
   "source": [
    "##The Instacart officers are interested in comparing customer behavior in different geographic areas. Create a regional segmentation of the data. You’ll need to create a “Region” column based on the “State” column from your customers data set."
   ]
  },
  {
   "cell_type": "code",
   "execution_count": null,
   "id": "6634da84-49cf-4fa8-97aa-ce1152ea0b1a",
   "metadata": {},
   "outputs": [],
   "source": [
    "#Frequency of the State column\n",
    "df_ords_prods_all['State'].value_counts(dropna = False)"
   ]
  },
  {
   "cell_type": "code",
   "execution_count": 11,
   "id": "bd3aed66-505b-456a-acba-fa3abf324a02",
   "metadata": {},
   "outputs": [],
   "source": [
    "#Creating the for-loop\n",
    "result = []\n",
    "for state in df_ords_prods_all['State']:\n",
    "    if state in ['Maine', 'New Hampshire', 'Vermont', 'Massachusetts', 'Rhode Island', 'Connecticut', 'New York', 'Pennsylvania', 'New Jersey']:\n",
    "        result.append('Northeast')\n",
    "    elif state in ['Wisconsin', 'Michigan', 'Illinois', 'Indiana', 'Ohio', 'North Dakota', 'South Dakota', 'Nebraska', 'Kansas', 'Minnesota', 'Iowa', 'Missouri']:\n",
    "        result.append('Midwest')\n",
    "    elif state in ['Delaware', 'Maryland', 'District of Columbia', 'Virginia', 'West Virginia', 'North Carolina', 'South Carolina', 'Georgia', 'Florida', 'Kentucky', 'Tennessee', 'Mississippi', 'Alabama', 'Oklahoma', 'Texas', 'Arkansas', 'Louisiana']:\n",
    "        result.append('South')\n",
    "    else:\n",
    "        result.append('West')"
   ]
  },
  {
   "cell_type": "code",
   "execution_count": null,
   "id": "021974cd-2993-4dd5-bf0d-e24acd5ea29a",
   "metadata": {},
   "outputs": [],
   "source": [
    "result"
   ]
  },
  {
   "cell_type": "code",
   "execution_count": 13,
   "id": "d33cd933-36a3-4148-9d10-8103a9e9e3ee",
   "metadata": {},
   "outputs": [],
   "source": [
    "#Combining with the df_ords_prods_all dataframe\n",
    "df_ords_prods_all['Region'] = result"
   ]
  },
  {
   "cell_type": "code",
   "execution_count": 14,
   "id": "4083077b-ed3f-44f9-977a-46d311c4697b",
   "metadata": {},
   "outputs": [
    {
     "data": {
      "text/plain": [
       "Region\n",
       "South        10791885\n",
       "West          8292913\n",
       "Midwest       7597325\n",
       "Northeast     5722736\n",
       "Name: count, dtype: int64"
      ]
     },
     "execution_count": 14,
     "metadata": {},
     "output_type": "execute_result"
    }
   ],
   "source": [
    "df_ords_prods_all['Region'].value_counts (dropna = False)"
   ]
  },
  {
   "cell_type": "code",
   "execution_count": null,
   "id": "312a1867-d085-4614-9ef8-ea5a46e4f866",
   "metadata": {},
   "outputs": [],
   "source": [
    "df_ords_prods_all.head()"
   ]
  },
  {
   "cell_type": "code",
   "execution_count": 16,
   "id": "99e1b302-c79f-4d4f-90fe-9bdeaca22820",
   "metadata": {},
   "outputs": [],
   "source": [
    "#Determine whether there’s a difference in spending habits between the different U.S. regions.\n",
    "crosstab = pd.crosstab(df_ords_prods_all['Region'], df_ords_prods_all['spending_flag'], dropna = False)"
   ]
  },
  {
   "cell_type": "code",
   "execution_count": 17,
   "id": "9502b8bf-b75c-4c73-bb1c-c2576863c704",
   "metadata": {},
   "outputs": [],
   "source": [
    "crosstab.to_clipboard()"
   ]
  },
  {
   "attachments": {},
   "cell_type": "markdown",
   "id": "a80f4177-bbaa-48b5-90e2-afc28179df41",
   "metadata": {},
   "source": [
    "###While there are high spenders in every region, low spenders are the majority for all 4 regions. There does not appear to be correlation between region and spending habits. \n",
    "Region\t  High spender\t  Low spender\r\n",
    "Midwest  \t15,5975      \t,744,1350\r\n",
    "Northea t\t1,0822      5,\t56,14511\r\n",
    "Sou  th\t,2096      91,\t10,582194\r\n",
    "W  est,\t160      3,54\t,8132559\r\n"
   ]
  },
  {
   "cell_type": "markdown",
   "id": "f7765861-94ee-4d40-ba30-42e4a9ca5d75",
   "metadata": {},
   "source": [
    "#The Instacart CFO isn’t interested in customers who don’t generate much revenue for the app. Create an exclusion flag for low-activity customers (customers with less than 5 orders) and exclude them from the data.\n"
   ]
  },
  {
   "cell_type": "markdown",
   "id": "1e2d1d9c-2a9d-4637-8e83-8e65aa6148df",
   "metadata": {},
   "source": [
    "#Define the function"
   ]
  },
  {
   "cell_type": "code",
   "execution_count": 18,
   "id": "2a426f67-8cc2-455b-8ffd-9beb63875709",
   "metadata": {
    "scrolled": true
   },
   "outputs": [],
   "source": [
    "def exclusion_flag (row):\n",
    "    if row ['max_order'] < 5:\n",
    "        return 'low_activity customer'\n",
    "    else: return 'regular customer'"
   ]
  },
  {
   "cell_type": "markdown",
   "id": "98e9804d-e751-460b-a9c4-820c8b981d6e",
   "metadata": {},
   "source": [
    "#Apply the function"
   ]
  },
  {
   "cell_type": "code",
   "execution_count": 19,
   "id": "150ab2ae-88dc-4ccd-95fd-6392ee587a62",
   "metadata": {},
   "outputs": [],
   "source": [
    "df_ords_prods_all['exclusion_flag'] = df_ords_prods_all.apply(exclusion_flag, axis=1)"
   ]
  },
  {
   "cell_type": "code",
   "execution_count": 20,
   "id": "483aaa84-183a-4ac6-bddd-a542a687bb4e",
   "metadata": {},
   "outputs": [
    {
     "data": {
      "text/plain": [
       "exclusion_flag\n",
       "regular customer         30964564\n",
       "low_activity customer     1440295\n",
       "Name: count, dtype: int64"
      ]
     },
     "execution_count": 20,
     "metadata": {},
     "output_type": "execute_result"
    }
   ],
   "source": [
    "df_ords_prods_all['exclusion_flag'].value_counts(dropna = False)"
   ]
  },
  {
   "cell_type": "code",
   "execution_count": null,
   "id": "d26b7219-9ec1-4db3-ab64-26da7147f5ff",
   "metadata": {},
   "outputs": [],
   "source": [
    "df_ords_prods_all.head()"
   ]
  },
  {
   "cell_type": "code",
   "execution_count": 22,
   "id": "f30a6abd-3c73-4a95-a96c-3c53325a723f",
   "metadata": {},
   "outputs": [],
   "source": [
    "#Export the sample\n",
    "df_ords_prods_all.to_pickle(os.path.join(path, '02 Data', 'Prepared Data', 'orders_products_all_exclusion_flag.pkl'))"
   ]
  },
  {
   "cell_type": "code",
   "execution_count": 23,
   "id": "741b697d-4c17-4690-aa25-312eee6f2f8d",
   "metadata": {},
   "outputs": [],
   "source": [
    "#Drop all rows that contain 'low_activity customer'\n",
    "df_ords_prods_all = df_ords_prods_all.drop(df_ords_prods_all[df_ords_prods_all['exclusion_flag'] == 'low_activity customer'].index)"
   ]
  },
  {
   "cell_type": "code",
   "execution_count": null,
   "id": "3b14f546-4c80-4ef1-b8e1-9cd176c4aced",
   "metadata": {},
   "outputs": [],
   "source": [
    "#Print the resulting DataFrame\n",
    "print(df_ords_prods_all)"
   ]
  },
  {
   "cell_type": "code",
   "execution_count": null,
   "id": "c9a09596-5864-4082-9637-c9448cc3bbb0",
   "metadata": {},
   "outputs": [],
   "source": [
    "df_ords_prods_all.head()"
   ]
  },
  {
   "cell_type": "markdown",
   "id": "86c844d2-83f5-438a-b27c-efaf1638ecd5",
   "metadata": {},
   "source": [
    "#The marketing and business strategy units at Instacart want to create more-relevant marketing strategies for different products and are, thus, curious about customer profiling in their database. Create a profiling variable based on age, income, certain goods in the “department_id” column, and number of dependents. You might also use the “orders_day_of_week” and “order_hour_of_day” columns if you can think of a way they would impact customer profiles."
   ]
  },
  {
   "cell_type": "code",
   "execution_count": 26,
   "id": "fc22ae28-9967-4167-bfa5-097d798b730c",
   "metadata": {},
   "outputs": [
    {
     "data": {
      "text/plain": [
       "Age\n",
       "79    508337\n",
       "49    507879\n",
       "48    506730\n",
       "31    506218\n",
       "64    504832\n",
       "       ...  \n",
       "60    461897\n",
       "36    460649\n",
       "66    454604\n",
       "41    451269\n",
       "25    449324\n",
       "Name: count, Length: 64, dtype: int64"
      ]
     },
     "execution_count": 26,
     "metadata": {},
     "output_type": "execute_result"
    }
   ],
   "source": [
    "#Frequency of the Age column\n",
    "df_ords_prods_all['Age'].value_counts(dropna = False)"
   ]
  },
  {
   "cell_type": "code",
   "execution_count": 27,
   "id": "d32e3e85-59e7-43ff-8e01-5ba74268bffc",
   "metadata": {},
   "outputs": [
    {
     "data": {
      "text/html": [
       "<div>\n",
       "<style scoped>\n",
       "    .dataframe tbody tr th:only-of-type {\n",
       "        vertical-align: middle;\n",
       "    }\n",
       "\n",
       "    .dataframe tbody tr th {\n",
       "        vertical-align: top;\n",
       "    }\n",
       "\n",
       "    .dataframe thead th {\n",
       "        text-align: right;\n",
       "    }\n",
       "</style>\n",
       "<table border=\"1\" class=\"dataframe\">\n",
       "  <thead>\n",
       "    <tr style=\"text-align: right;\">\n",
       "      <th></th>\n",
       "      <th>order_number</th>\n",
       "      <th>orders_day_of_week</th>\n",
       "      <th>hour_of_day_ordered</th>\n",
       "      <th>days_since_prior_order</th>\n",
       "      <th>product_id</th>\n",
       "      <th>add_to_cart_order</th>\n",
       "      <th>reordered</th>\n",
       "      <th>aisle_id</th>\n",
       "      <th>department_id</th>\n",
       "      <th>prices</th>\n",
       "      <th>max_order</th>\n",
       "      <th>average_price</th>\n",
       "      <th>median_days_since prior_order</th>\n",
       "      <th>Age</th>\n",
       "      <th>Number_of_Dependants</th>\n",
       "      <th>income</th>\n",
       "    </tr>\n",
       "  </thead>\n",
       "  <tbody>\n",
       "    <tr>\n",
       "      <th>count</th>\n",
       "      <td>3.096456e+07</td>\n",
       "      <td>3.096456e+07</td>\n",
       "      <td>3.096456e+07</td>\n",
       "      <td>2.930328e+07</td>\n",
       "      <td>3.096456e+07</td>\n",
       "      <td>3.096456e+07</td>\n",
       "      <td>3.096456e+07</td>\n",
       "      <td>3.096456e+07</td>\n",
       "      <td>3.096456e+07</td>\n",
       "      <td>3.095969e+07</td>\n",
       "      <td>3.096456e+07</td>\n",
       "      <td>3.096456e+07</td>\n",
       "      <td>3.096456e+07</td>\n",
       "      <td>3.096456e+07</td>\n",
       "      <td>3.096456e+07</td>\n",
       "      <td>3.096456e+07</td>\n",
       "    </tr>\n",
       "    <tr>\n",
       "      <th>mean</th>\n",
       "      <td>1.783414e+01</td>\n",
       "      <td>2.741397e+00</td>\n",
       "      <td>1.341098e+01</td>\n",
       "      <td>1.081030e+01</td>\n",
       "      <td>2.559850e+04</td>\n",
       "      <td>8.363038e+00</td>\n",
       "      <td>6.061019e-01</td>\n",
       "      <td>7.118859e+01</td>\n",
       "      <td>9.922365e+00</td>\n",
       "      <td>7.790590e+00</td>\n",
       "      <td>3.442569e+01</td>\n",
       "      <td>7.790592e+00</td>\n",
       "      <td>9.957140e+00</td>\n",
       "      <td>4.946803e+01</td>\n",
       "      <td>1.501819e+00</td>\n",
       "      <td>9.967587e+04</td>\n",
       "    </tr>\n",
       "    <tr>\n",
       "      <th>std</th>\n",
       "      <td>1.763442e+01</td>\n",
       "      <td>2.089254e+00</td>\n",
       "      <td>4.248845e+00</td>\n",
       "      <td>8.578590e+00</td>\n",
       "      <td>1.408096e+04</td>\n",
       "      <td>7.135399e+00</td>\n",
       "      <td>4.886127e-01</td>\n",
       "      <td>3.822194e+01</td>\n",
       "      <td>6.282441e+00</td>\n",
       "      <td>4.240595e+00</td>\n",
       "      <td>2.489504e+01</td>\n",
       "      <td>7.216696e-01</td>\n",
       "      <td>6.666137e+00</td>\n",
       "      <td>1.848528e+01</td>\n",
       "      <td>1.118896e+00</td>\n",
       "      <td>4.314187e+04</td>\n",
       "    </tr>\n",
       "    <tr>\n",
       "      <th>min</th>\n",
       "      <td>1.000000e+00</td>\n",
       "      <td>0.000000e+00</td>\n",
       "      <td>0.000000e+00</td>\n",
       "      <td>0.000000e+00</td>\n",
       "      <td>1.000000e+00</td>\n",
       "      <td>1.000000e+00</td>\n",
       "      <td>0.000000e+00</td>\n",
       "      <td>1.000000e+00</td>\n",
       "      <td>1.000000e+00</td>\n",
       "      <td>1.000000e+00</td>\n",
       "      <td>5.000000e+00</td>\n",
       "      <td>1.000000e+00</td>\n",
       "      <td>0.000000e+00</td>\n",
       "      <td>1.800000e+01</td>\n",
       "      <td>0.000000e+00</td>\n",
       "      <td>2.590300e+04</td>\n",
       "    </tr>\n",
       "    <tr>\n",
       "      <th>25%</th>\n",
       "      <td>5.000000e+00</td>\n",
       "      <td>1.000000e+00</td>\n",
       "      <td>1.000000e+01</td>\n",
       "      <td>5.000000e+00</td>\n",
       "      <td>1.354400e+04</td>\n",
       "      <td>3.000000e+00</td>\n",
       "      <td>0.000000e+00</td>\n",
       "      <td>3.100000e+01</td>\n",
       "      <td>4.000000e+00</td>\n",
       "      <td>4.200000e+00</td>\n",
       "      <td>1.400000e+01</td>\n",
       "      <td>7.385130e+00</td>\n",
       "      <td>6.000000e+00</td>\n",
       "      <td>3.300000e+01</td>\n",
       "      <td>1.000000e+00</td>\n",
       "      <td>6.729200e+04</td>\n",
       "    </tr>\n",
       "    <tr>\n",
       "      <th>50%</th>\n",
       "      <td>1.200000e+01</td>\n",
       "      <td>3.000000e+00</td>\n",
       "      <td>1.300000e+01</td>\n",
       "      <td>7.000000e+00</td>\n",
       "      <td>2.528800e+04</td>\n",
       "      <td>6.000000e+00</td>\n",
       "      <td>1.000000e+00</td>\n",
       "      <td>8.300000e+01</td>\n",
       "      <td>9.000000e+00</td>\n",
       "      <td>7.400000e+00</td>\n",
       "      <td>2.800000e+01</td>\n",
       "      <td>7.812245e+00</td>\n",
       "      <td>7.000000e+00</td>\n",
       "      <td>4.900000e+01</td>\n",
       "      <td>2.000000e+00</td>\n",
       "      <td>9.676500e+04</td>\n",
       "    </tr>\n",
       "    <tr>\n",
       "      <th>75%</th>\n",
       "      <td>2.500000e+01</td>\n",
       "      <td>5.000000e+00</td>\n",
       "      <td>1.600000e+01</td>\n",
       "      <td>1.400000e+01</td>\n",
       "      <td>3.794700e+04</td>\n",
       "      <td>1.100000e+01</td>\n",
       "      <td>1.000000e+00</td>\n",
       "      <td>1.070000e+02</td>\n",
       "      <td>1.600000e+01</td>\n",
       "      <td>1.130000e+01</td>\n",
       "      <td>4.800000e+01</td>\n",
       "      <td>8.224106e+00</td>\n",
       "      <td>1.250000e+01</td>\n",
       "      <td>6.500000e+01</td>\n",
       "      <td>3.000000e+00</td>\n",
       "      <td>1.281020e+05</td>\n",
       "    </tr>\n",
       "    <tr>\n",
       "      <th>max</th>\n",
       "      <td>9.900000e+01</td>\n",
       "      <td>6.000000e+00</td>\n",
       "      <td>2.300000e+01</td>\n",
       "      <td>3.000000e+01</td>\n",
       "      <td>4.968800e+04</td>\n",
       "      <td>1.450000e+02</td>\n",
       "      <td>1.000000e+00</td>\n",
       "      <td>1.340000e+02</td>\n",
       "      <td>2.100000e+01</td>\n",
       "      <td>2.500000e+01</td>\n",
       "      <td>9.900000e+01</td>\n",
       "      <td>2.011429e+01</td>\n",
       "      <td>3.000000e+01</td>\n",
       "      <td>8.100000e+01</td>\n",
       "      <td>3.000000e+00</td>\n",
       "      <td>5.939010e+05</td>\n",
       "    </tr>\n",
       "  </tbody>\n",
       "</table>\n",
       "</div>"
      ],
      "text/plain": [
       "       order_number  orders_day_of_week  hour_of_day_ordered  \\\n",
       "count  3.096456e+07        3.096456e+07         3.096456e+07   \n",
       "mean   1.783414e+01        2.741397e+00         1.341098e+01   \n",
       "std    1.763442e+01        2.089254e+00         4.248845e+00   \n",
       "min    1.000000e+00        0.000000e+00         0.000000e+00   \n",
       "25%    5.000000e+00        1.000000e+00         1.000000e+01   \n",
       "50%    1.200000e+01        3.000000e+00         1.300000e+01   \n",
       "75%    2.500000e+01        5.000000e+00         1.600000e+01   \n",
       "max    9.900000e+01        6.000000e+00         2.300000e+01   \n",
       "\n",
       "       days_since_prior_order    product_id  add_to_cart_order     reordered  \\\n",
       "count            2.930328e+07  3.096456e+07       3.096456e+07  3.096456e+07   \n",
       "mean             1.081030e+01  2.559850e+04       8.363038e+00  6.061019e-01   \n",
       "std              8.578590e+00  1.408096e+04       7.135399e+00  4.886127e-01   \n",
       "min              0.000000e+00  1.000000e+00       1.000000e+00  0.000000e+00   \n",
       "25%              5.000000e+00  1.354400e+04       3.000000e+00  0.000000e+00   \n",
       "50%              7.000000e+00  2.528800e+04       6.000000e+00  1.000000e+00   \n",
       "75%              1.400000e+01  3.794700e+04       1.100000e+01  1.000000e+00   \n",
       "max              3.000000e+01  4.968800e+04       1.450000e+02  1.000000e+00   \n",
       "\n",
       "           aisle_id  department_id        prices     max_order  average_price  \\\n",
       "count  3.096456e+07   3.096456e+07  3.095969e+07  3.096456e+07   3.096456e+07   \n",
       "mean   7.118859e+01   9.922365e+00  7.790590e+00  3.442569e+01   7.790592e+00   \n",
       "std    3.822194e+01   6.282441e+00  4.240595e+00  2.489504e+01   7.216696e-01   \n",
       "min    1.000000e+00   1.000000e+00  1.000000e+00  5.000000e+00   1.000000e+00   \n",
       "25%    3.100000e+01   4.000000e+00  4.200000e+00  1.400000e+01   7.385130e+00   \n",
       "50%    8.300000e+01   9.000000e+00  7.400000e+00  2.800000e+01   7.812245e+00   \n",
       "75%    1.070000e+02   1.600000e+01  1.130000e+01  4.800000e+01   8.224106e+00   \n",
       "max    1.340000e+02   2.100000e+01  2.500000e+01  9.900000e+01   2.011429e+01   \n",
       "\n",
       "       median_days_since prior_order           Age  Number_of_Dependants  \\\n",
       "count                   3.096456e+07  3.096456e+07          3.096456e+07   \n",
       "mean                    9.957140e+00  4.946803e+01          1.501819e+00   \n",
       "std                     6.666137e+00  1.848528e+01          1.118896e+00   \n",
       "min                     0.000000e+00  1.800000e+01          0.000000e+00   \n",
       "25%                     6.000000e+00  3.300000e+01          1.000000e+00   \n",
       "50%                     7.000000e+00  4.900000e+01          2.000000e+00   \n",
       "75%                     1.250000e+01  6.500000e+01          3.000000e+00   \n",
       "max                     3.000000e+01  8.100000e+01          3.000000e+00   \n",
       "\n",
       "             income  \n",
       "count  3.096456e+07  \n",
       "mean   9.967587e+04  \n",
       "std    4.314187e+04  \n",
       "min    2.590300e+04  \n",
       "25%    6.729200e+04  \n",
       "50%    9.676500e+04  \n",
       "75%    1.281020e+05  \n",
       "max    5.939010e+05  "
      ]
     },
     "execution_count": 27,
     "metadata": {},
     "output_type": "execute_result"
    }
   ],
   "source": [
    "#Describe the dataframe\n",
    "df_ords_prods_all.describe()"
   ]
  },
  {
   "cell_type": "code",
   "execution_count": 28,
   "id": "2f96e0d3-eb9e-41ad-ac1d-f6acf392584a",
   "metadata": {},
   "outputs": [
    {
     "data": {
      "text/plain": [
       "81"
      ]
     },
     "execution_count": 28,
     "metadata": {},
     "output_type": "execute_result"
    }
   ],
   "source": [
    "df_ords_prods_all['Age'].max()"
   ]
  },
  {
   "cell_type": "code",
   "execution_count": 29,
   "id": "97935727-b5b7-4952-b031-ea772cb7d343",
   "metadata": {},
   "outputs": [
    {
     "data": {
      "text/plain": [
       "18"
      ]
     },
     "execution_count": 29,
     "metadata": {},
     "output_type": "execute_result"
    }
   ],
   "source": [
    "df_ords_prods_all['Age'].min()"
   ]
  },
  {
   "cell_type": "markdown",
   "id": "1537a146-ef32-473e-a890-8c363caa524b",
   "metadata": {},
   "source": [
    "#Create age-groups"
   ]
  },
  {
   "cell_type": "code",
   "execution_count": 30,
   "id": "cd240e42-9d75-4f3a-bd96-dded71586c70",
   "metadata": {},
   "outputs": [],
   "source": [
    "df_ords_prods_all.loc[df_ords_prods_all['Age'] >40 & (df_ords_prods_all['Age'] <=59), 'age-group'] = 'middle-aged adult'"
   ]
  },
  {
   "cell_type": "code",
   "execution_count": 31,
   "id": "ee270979-45bb-4ff9-9b14-e90cf8b47559",
   "metadata": {},
   "outputs": [],
   "source": [
    "df_ords_prods_all.loc[df_ords_prods_all['Age'] >=60, 'age-group'] = 'old adult'"
   ]
  },
  {
   "cell_type": "code",
   "execution_count": 32,
   "id": "48f584d3-a049-4cf4-8cff-b6f77b955459",
   "metadata": {},
   "outputs": [],
   "source": [
    "df_ords_prods_all.loc[df_ords_prods_all['Age'] <=39, 'age-group'] = 'young adult'"
   ]
  },
  {
   "cell_type": "code",
   "execution_count": 33,
   "id": "cb62d2ca-00c4-4bd9-89c6-b03fe65e0c28",
   "metadata": {},
   "outputs": [
    {
     "data": {
      "text/plain": [
       "age-group\n",
       "young adult          10665110\n",
       "old adult            10574504\n",
       "middle-aged adult     9724950\n",
       "Name: count, dtype: int64"
      ]
     },
     "execution_count": 33,
     "metadata": {},
     "output_type": "execute_result"
    }
   ],
   "source": [
    "df_ords_prods_all['age-group'].value_counts(dropna = False)"
   ]
  },
  {
   "cell_type": "code",
   "execution_count": 34,
   "id": "bba123e6-c5d4-49b0-8355-039b95a89acf",
   "metadata": {},
   "outputs": [
    {
     "data": {
      "text/plain": [
       "income\n",
       "72344     4395\n",
       "112610    4242\n",
       "57501     4136\n",
       "115620    3831\n",
       "36163     3657\n",
       "          ... \n",
       "47901        5\n",
       "90002        5\n",
       "33040        5\n",
       "35538        5\n",
       "147660       2\n",
       "Name: count, Length: 96069, dtype: int64"
      ]
     },
     "execution_count": 34,
     "metadata": {},
     "output_type": "execute_result"
    }
   ],
   "source": [
    "#Frequency of the income column\n",
    "df_ords_prods_all['income'].value_counts(dropna = False)"
   ]
  },
  {
   "cell_type": "code",
   "execution_count": 35,
   "id": "f0914475-a9d1-4aa0-bd0e-75bef9fad980",
   "metadata": {},
   "outputs": [
    {
     "data": {
      "text/plain": [
       "593901"
      ]
     },
     "execution_count": 35,
     "metadata": {},
     "output_type": "execute_result"
    }
   ],
   "source": [
    "df_ords_prods_all['income'].max()"
   ]
  },
  {
   "cell_type": "code",
   "execution_count": 36,
   "id": "53123fc2-5a28-4bdd-bfef-300e52c7b3ef",
   "metadata": {},
   "outputs": [
    {
     "data": {
      "text/plain": [
       "25903"
      ]
     },
     "execution_count": 36,
     "metadata": {},
     "output_type": "execute_result"
    }
   ],
   "source": [
    "df_ords_prods_all['income'].min()"
   ]
  },
  {
   "cell_type": "code",
   "execution_count": 37,
   "id": "17520efd-7aad-4037-aaa4-efce4144f0d4",
   "metadata": {},
   "outputs": [
    {
     "data": {
      "text/plain": [
       "96765.0"
      ]
     },
     "execution_count": 37,
     "metadata": {},
     "output_type": "execute_result"
    }
   ],
   "source": [
    "df_ords_prods_all['income'].median()"
   ]
  },
  {
   "cell_type": "code",
   "execution_count": 38,
   "id": "db293e5e-2f60-4f49-a519-7a78faa4dac9",
   "metadata": {},
   "outputs": [
    {
     "data": {
      "text/plain": [
       "99675.86510754681"
      ]
     },
     "execution_count": 38,
     "metadata": {},
     "output_type": "execute_result"
    }
   ],
   "source": [
    "df_ords_prods_all['income'].mean()"
   ]
  },
  {
   "cell_type": "code",
   "execution_count": 39,
   "id": "29780a91-6118-4367-9230-80711244dec0",
   "metadata": {},
   "outputs": [],
   "source": [
    "#Create age-groups\n",
    "df_ords_prods_all.loc[df_ords_prods_all['income'] >67293 & (df_ords_prods_all['income'] <=128101), 'income-group'] = 'middle income'"
   ]
  },
  {
   "cell_type": "code",
   "execution_count": 40,
   "id": "43d79f6f-6d3c-4a42-8ce0-e869a26d9b8a",
   "metadata": {},
   "outputs": [],
   "source": [
    "df_ords_prods_all.loc[df_ords_prods_all['income'] >=128102, 'income-group'] = 'highest income'"
   ]
  },
  {
   "cell_type": "code",
   "execution_count": 41,
   "id": "bc5147cc-35fc-41a6-9523-4dd5afd93a35",
   "metadata": {},
   "outputs": [],
   "source": [
    "#Create income-groups\n",
    "df_ords_prods_all.loc[df_ords_prods_all['income'] <=67292, 'income-group'] = 'lowest income'"
   ]
  },
  {
   "cell_type": "code",
   "execution_count": 42,
   "id": "f7b2a9aa-ca4f-4e12-9827-99eb9e38562d",
   "metadata": {},
   "outputs": [
    {
     "data": {
      "text/plain": [
       "income-group\n",
       "middle income     15481955\n",
       "lowest income      7741348\n",
       "highest income     7741261\n",
       "Name: count, dtype: int64"
      ]
     },
     "execution_count": 42,
     "metadata": {},
     "output_type": "execute_result"
    }
   ],
   "source": [
    "df_ords_prods_all['income-group'].value_counts(dropna = False)"
   ]
  },
  {
   "cell_type": "code",
   "execution_count": 43,
   "id": "c210ee1f-815f-4f97-84ca-42224155d92b",
   "metadata": {},
   "outputs": [
    {
     "data": {
      "text/plain": [
       "Number_of_Dependants\n",
       "3    7772516\n",
       "0    7739681\n",
       "2    7733261\n",
       "1    7719106\n",
       "Name: count, dtype: int64"
      ]
     },
     "execution_count": 43,
     "metadata": {},
     "output_type": "execute_result"
    }
   ],
   "source": [
    "#Frequency of the Number_of_Dependants column\n",
    "df_ords_prods_all['Number_of_Dependants'].value_counts(dropna = False)"
   ]
  },
  {
   "cell_type": "code",
   "execution_count": 44,
   "id": "dd47f512-0c56-4330-91e6-18cf23d1ff7d",
   "metadata": {},
   "outputs": [
    {
     "data": {
      "text/plain": [
       "Familial_Status\n",
       "married                             21743711\n",
       "single                               5094410\n",
       "divorced/widowed                     2645271\n",
       "living with parents and siblings     1481172\n",
       "Name: count, dtype: int64"
      ]
     },
     "execution_count": 44,
     "metadata": {},
     "output_type": "execute_result"
    }
   ],
   "source": [
    "#Frequency of the Familial_Status column\n",
    "df_ords_prods_all['Familial_Status'].value_counts(dropna = False)"
   ]
  },
  {
   "cell_type": "code",
   "execution_count": 45,
   "id": "9f708d06-be41-4191-877d-770a574f2658",
   "metadata": {},
   "outputs": [],
   "source": [
    "#Create family_status column\n",
    "df_ords_prods_all.loc[(df_ords_prods_all['Familial_Status'] == 'married') & (df_ords_prods_all['Number_of_Dependants'] == 0), 'family_status'] = 'married without dependants'"
   ]
  },
  {
   "cell_type": "code",
   "execution_count": 46,
   "id": "122cab62-5bdd-4893-951e-9d92ea167f19",
   "metadata": {},
   "outputs": [],
   "source": [
    "df_ords_prods_all.loc[(df_ords_prods_all['Familial_Status'] == 'married') & (df_ords_prods_all['Number_of_Dependants'] >= 1), 'family_status'] = 'married with dependants'"
   ]
  },
  {
   "cell_type": "code",
   "execution_count": 47,
   "id": "41e73e4d-55e2-4a0b-846e-224523e29ff8",
   "metadata": {},
   "outputs": [],
   "source": [
    "df_ords_prods_all.loc[(df_ords_prods_all['Familial_Status'] == 'single') & (df_ords_prods_all['Number_of_Dependants'] == 0), 'family_status'] = 'single without dependants'"
   ]
  },
  {
   "cell_type": "code",
   "execution_count": 48,
   "id": "dfe90316-3b35-41c2-875a-887ac557f212",
   "metadata": {},
   "outputs": [],
   "source": [
    "df_ords_prods_all.loc[(df_ords_prods_all['Familial_Status'] == 'single') & (df_ords_prods_all['Number_of_Dependants'] >= 1), 'family_status'] = 'single with dependants'"
   ]
  },
  {
   "cell_type": "code",
   "execution_count": 49,
   "id": "24ed3098-8ec6-4eb7-a95f-32ef35185adf",
   "metadata": {},
   "outputs": [],
   "source": [
    "df_ords_prods_all.loc[(df_ords_prods_all['Familial_Status'] == 'divorced/widowed') & (df_ords_prods_all['Number_of_Dependants'] == 0), 'family_status'] = 'divorced/widowed without dependants'"
   ]
  },
  {
   "cell_type": "code",
   "execution_count": 50,
   "id": "27a60839-1b0f-499e-ac66-ff0619779c12",
   "metadata": {},
   "outputs": [],
   "source": [
    "df_ords_prods_all.loc[(df_ords_prods_all['Familial_Status'] == 'divorced/widowed') & (df_ords_prods_all['Number_of_Dependants'] >= 1), 'family_status'] = 'divorced/widowed with dependants'"
   ]
  },
  {
   "cell_type": "code",
   "execution_count": 51,
   "id": "8dbf8b6b-a337-4562-8fcc-858c76783fa3",
   "metadata": {},
   "outputs": [],
   "source": [
    "df_ords_prods_all.loc[(df_ords_prods_all['Familial_Status'] == 'living with parents and siblings') & (df_ords_prods_all['Number_of_Dependants'] == 0), 'family_status'] = 'living with parents and siblings without dependants'"
   ]
  },
  {
   "cell_type": "code",
   "execution_count": 52,
   "id": "6720b8fa-a47a-4aa9-923e-b0f1b1b2e387",
   "metadata": {},
   "outputs": [],
   "source": [
    "df_ords_prods_all.loc[(df_ords_prods_all['Familial_Status'] == 'living with parents and siblings') & (df_ords_prods_all['Number_of_Dependants'] >= 1), 'family_status'] = 'living with parents and siblings with dependants'"
   ]
  },
  {
   "cell_type": "code",
   "execution_count": 53,
   "id": "34f1b3f5-1347-41ce-80a1-abea233b1e47",
   "metadata": {},
   "outputs": [
    {
     "data": {
      "text/plain": [
       "family_status\n",
       "married with dependants                             21743711\n",
       "single without dependants                            5094410\n",
       "divorced/widowed without dependants                  2645271\n",
       "living with parents and siblings with dependants     1481172\n",
       "Name: count, dtype: int64"
      ]
     },
     "execution_count": 53,
     "metadata": {},
     "output_type": "execute_result"
    }
   ],
   "source": [
    "df_ords_prods_all['family_status'].value_counts(dropna = False)"
   ]
  },
  {
   "cell_type": "code",
   "execution_count": 54,
   "id": "992803a6-78e9-4951-8ea6-e18908b98474",
   "metadata": {},
   "outputs": [],
   "source": [
    "pd.options.display.max_columns=None"
   ]
  },
  {
   "cell_type": "code",
   "execution_count": null,
   "id": "fe422148-1587-4614-b46a-f8c58f0b1561",
   "metadata": {},
   "outputs": [],
   "source": [
    "df_ords_prods_all.head()"
   ]
  },
  {
   "cell_type": "code",
   "execution_count": 56,
   "id": "7369ea2c-4ecf-4ffc-a758-4359fcc11ba8",
   "metadata": {},
   "outputs": [],
   "source": [
    "pd.reset_option('display.max_columns')"
   ]
  },
  {
   "cell_type": "code",
   "execution_count": 57,
   "id": "415cd898-5cf9-476d-97c5-e1aaedf5154e",
   "metadata": {},
   "outputs": [
    {
     "data": {
      "text/plain": [
       "order_id                          object\n",
       "user_id                           object\n",
       "order_number                       int64\n",
       "orders_day_of_week                 int64\n",
       "hour_of_day_ordered                int64\n",
       "days_since_prior_order           float64\n",
       "product_id                         int64\n",
       "add_to_cart_order                  int64\n",
       "reordered                          int64\n",
       "product_name                      object\n",
       "aisle_id                           int64\n",
       "department_id                      int64\n",
       "prices                           float64\n",
       "price_range_loc                   object\n",
       "busiest day                       object\n",
       "busiest_period_of_day             object\n",
       "max_order                          int64\n",
       "loyalty_flag                      object\n",
       "average_price                    float64\n",
       "spending_flag                     object\n",
       "median_days_since prior_order    float64\n",
       "frequency_flag                    object\n",
       "Gender                            object\n",
       "State                             object\n",
       "Age                                int64\n",
       "Number_of_Dependants               int64\n",
       "Familial_Status                   object\n",
       "income                             int64\n",
       "Region                            object\n",
       "exclusion_flag                    object\n",
       "age-group                         object\n",
       "income-group                      object\n",
       "family_status                     object\n",
       "dtype: object"
      ]
     },
     "execution_count": 57,
     "metadata": {},
     "output_type": "execute_result"
    }
   ],
   "source": [
    "df_ords_prods_all.dtypes"
   ]
  },
  {
   "cell_type": "markdown",
   "id": "3d7f9131-c358-4bfa-9c21-981e2fe0a21c",
   "metadata": {},
   "source": [
    "#Change data type of department_id to string in df_ords_prods_all"
   ]
  },
  {
   "cell_type": "code",
   "execution_count": 58,
   "id": "99d8c4de-25bb-420a-ae7e-4a0355f44aec",
   "metadata": {},
   "outputs": [],
   "source": [
    "df_ords_prods_all['department_id']=df_ords_prods_all['department_id'].astype('str')"
   ]
  },
  {
   "cell_type": "markdown",
   "id": "196103b8-8112-4dc6-8601-0e72e926ce0d",
   "metadata": {},
   "source": [
    "#Change data type of product_id to string in df_ords_prods_all"
   ]
  },
  {
   "cell_type": "code",
   "execution_count": 59,
   "id": "582974c3-f587-4922-8dda-2d3790d1299f",
   "metadata": {},
   "outputs": [],
   "source": [
    "df_ords_prods_all['product_id']=df_ords_prods_all['product_id'].astype('str')"
   ]
  },
  {
   "cell_type": "code",
   "execution_count": 60,
   "id": "ec5aeb85-e329-4204-b00a-7a7aefcc191b",
   "metadata": {},
   "outputs": [
    {
     "data": {
      "text/plain": [
       "order_id                          object\n",
       "user_id                           object\n",
       "order_number                       int64\n",
       "orders_day_of_week                 int64\n",
       "hour_of_day_ordered                int64\n",
       "days_since_prior_order           float64\n",
       "product_id                        object\n",
       "add_to_cart_order                  int64\n",
       "reordered                          int64\n",
       "product_name                      object\n",
       "aisle_id                           int64\n",
       "department_id                     object\n",
       "prices                           float64\n",
       "price_range_loc                   object\n",
       "busiest day                       object\n",
       "busiest_period_of_day             object\n",
       "max_order                          int64\n",
       "loyalty_flag                      object\n",
       "average_price                    float64\n",
       "spending_flag                     object\n",
       "median_days_since prior_order    float64\n",
       "frequency_flag                    object\n",
       "Gender                            object\n",
       "State                             object\n",
       "Age                                int64\n",
       "Number_of_Dependants               int64\n",
       "Familial_Status                   object\n",
       "income                             int64\n",
       "Region                            object\n",
       "exclusion_flag                    object\n",
       "age-group                         object\n",
       "income-group                      object\n",
       "family_status                     object\n",
       "dtype: object"
      ]
     },
     "execution_count": 60,
     "metadata": {},
     "output_type": "execute_result"
    }
   ],
   "source": [
    "df_ords_prods_all.dtypes"
   ]
  },
  {
   "cell_type": "code",
   "execution_count": 61,
   "id": "c2f4cb45-a6be-4b4d-941f-fc66f0315f4b",
   "metadata": {
    "scrolled": true
   },
   "outputs": [
    {
     "data": {
      "text/html": [
       "<div>\n",
       "<style scoped>\n",
       "    .dataframe tbody tr th:only-of-type {\n",
       "        vertical-align: middle;\n",
       "    }\n",
       "\n",
       "    .dataframe tbody tr th {\n",
       "        vertical-align: top;\n",
       "    }\n",
       "\n",
       "    .dataframe thead tr th {\n",
       "        text-align: left;\n",
       "    }\n",
       "\n",
       "    .dataframe thead tr:last-of-type th {\n",
       "        text-align: right;\n",
       "    }\n",
       "</style>\n",
       "<table border=\"1\" class=\"dataframe\">\n",
       "  <thead>\n",
       "    <tr>\n",
       "      <th></th>\n",
       "      <th></th>\n",
       "      <th></th>\n",
       "      <th></th>\n",
       "      <th></th>\n",
       "      <th></th>\n",
       "      <th></th>\n",
       "      <th colspan=\"4\" halign=\"left\">orders_day_of_week</th>\n",
       "      <th colspan=\"4\" halign=\"left\">hour_of_day_ordered</th>\n",
       "      <th colspan=\"4\" halign=\"left\">days_since_prior_order</th>\n",
       "    </tr>\n",
       "    <tr>\n",
       "      <th></th>\n",
       "      <th></th>\n",
       "      <th></th>\n",
       "      <th></th>\n",
       "      <th></th>\n",
       "      <th></th>\n",
       "      <th></th>\n",
       "      <th>mean</th>\n",
       "      <th>median</th>\n",
       "      <th>min</th>\n",
       "      <th>max</th>\n",
       "      <th>mean</th>\n",
       "      <th>median</th>\n",
       "      <th>min</th>\n",
       "      <th>max</th>\n",
       "      <th>mean</th>\n",
       "      <th>median</th>\n",
       "      <th>min</th>\n",
       "      <th>max</th>\n",
       "    </tr>\n",
       "    <tr>\n",
       "      <th>user_id</th>\n",
       "      <th>product_id</th>\n",
       "      <th>product_name</th>\n",
       "      <th>department_id</th>\n",
       "      <th>family_status</th>\n",
       "      <th>age-group</th>\n",
       "      <th>income-group</th>\n",
       "      <th></th>\n",
       "      <th></th>\n",
       "      <th></th>\n",
       "      <th></th>\n",
       "      <th></th>\n",
       "      <th></th>\n",
       "      <th></th>\n",
       "      <th></th>\n",
       "      <th></th>\n",
       "      <th></th>\n",
       "      <th></th>\n",
       "      <th></th>\n",
       "    </tr>\n",
       "  </thead>\n",
       "  <tbody>\n",
       "    <tr>\n",
       "      <th rowspan=\"5\" valign=\"top\">1</th>\n",
       "      <th>10258</th>\n",
       "      <th>Pistachios</th>\n",
       "      <th>19</th>\n",
       "      <th>married with dependants</th>\n",
       "      <th>young adult</th>\n",
       "      <th>lowest income</th>\n",
       "      <td>2.555556</td>\n",
       "      <td>3.0</td>\n",
       "      <td>1</td>\n",
       "      <td>4</td>\n",
       "      <td>10.555556</td>\n",
       "      <td>9.0</td>\n",
       "      <td>7</td>\n",
       "      <td>16</td>\n",
       "      <td>19.555556</td>\n",
       "      <td>20.0</td>\n",
       "      <td>0.0</td>\n",
       "      <td>30.0</td>\n",
       "    </tr>\n",
       "    <tr>\n",
       "      <th>10326</th>\n",
       "      <th>Organic Fuji Apples</th>\n",
       "      <th>4</th>\n",
       "      <th>married with dependants</th>\n",
       "      <th>young adult</th>\n",
       "      <th>lowest income</th>\n",
       "      <td>4.000000</td>\n",
       "      <td>4.0</td>\n",
       "      <td>4</td>\n",
       "      <td>4</td>\n",
       "      <td>15.000000</td>\n",
       "      <td>15.0</td>\n",
       "      <td>15</td>\n",
       "      <td>15</td>\n",
       "      <td>28.000000</td>\n",
       "      <td>28.0</td>\n",
       "      <td>28.0</td>\n",
       "      <td>28.0</td>\n",
       "    </tr>\n",
       "    <tr>\n",
       "      <th>12427</th>\n",
       "      <th>Original Beef Jerky</th>\n",
       "      <th>19</th>\n",
       "      <th>married with dependants</th>\n",
       "      <th>young adult</th>\n",
       "      <th>lowest income</th>\n",
       "      <td>2.500000</td>\n",
       "      <td>2.5</td>\n",
       "      <td>1</td>\n",
       "      <td>4</td>\n",
       "      <td>10.300000</td>\n",
       "      <td>8.5</td>\n",
       "      <td>7</td>\n",
       "      <td>16</td>\n",
       "      <td>19.555556</td>\n",
       "      <td>20.0</td>\n",
       "      <td>0.0</td>\n",
       "      <td>30.0</td>\n",
       "    </tr>\n",
       "    <tr>\n",
       "      <th>13032</th>\n",
       "      <th>Cinnamon Toast Crunch</th>\n",
       "      <th>14</th>\n",
       "      <th>married with dependants</th>\n",
       "      <th>young adult</th>\n",
       "      <th>lowest income</th>\n",
       "      <td>2.666667</td>\n",
       "      <td>3.0</td>\n",
       "      <td>1</td>\n",
       "      <td>4</td>\n",
       "      <td>8.000000</td>\n",
       "      <td>8.0</td>\n",
       "      <td>7</td>\n",
       "      <td>9</td>\n",
       "      <td>21.666667</td>\n",
       "      <td>20.0</td>\n",
       "      <td>15.0</td>\n",
       "      <td>30.0</td>\n",
       "    </tr>\n",
       "    <tr>\n",
       "      <th>13176</th>\n",
       "      <th>Bag of Organic Bananas</th>\n",
       "      <th>4</th>\n",
       "      <th>married with dependants</th>\n",
       "      <th>young adult</th>\n",
       "      <th>lowest income</th>\n",
       "      <td>3.500000</td>\n",
       "      <td>3.5</td>\n",
       "      <td>3</td>\n",
       "      <td>4</td>\n",
       "      <td>11.000000</td>\n",
       "      <td>11.0</td>\n",
       "      <td>7</td>\n",
       "      <td>15</td>\n",
       "      <td>21.500000</td>\n",
       "      <td>21.5</td>\n",
       "      <td>15.0</td>\n",
       "      <td>28.0</td>\n",
       "    </tr>\n",
       "    <tr>\n",
       "      <th>...</th>\n",
       "      <th>...</th>\n",
       "      <th>...</th>\n",
       "      <th>...</th>\n",
       "      <th>...</th>\n",
       "      <th>...</th>\n",
       "      <th>...</th>\n",
       "      <td>...</td>\n",
       "      <td>...</td>\n",
       "      <td>...</td>\n",
       "      <td>...</td>\n",
       "      <td>...</td>\n",
       "      <td>...</td>\n",
       "      <td>...</td>\n",
       "      <td>...</td>\n",
       "      <td>...</td>\n",
       "      <td>...</td>\n",
       "      <td>...</td>\n",
       "      <td>...</td>\n",
       "    </tr>\n",
       "    <tr>\n",
       "      <th rowspan=\"5\" valign=\"top\">99999</th>\n",
       "      <th>5876</th>\n",
       "      <th>Organic Lemon</th>\n",
       "      <th>4</th>\n",
       "      <th>married with dependants</th>\n",
       "      <th>middle-aged adult</th>\n",
       "      <th>lowest income</th>\n",
       "      <td>1.000000</td>\n",
       "      <td>0.5</td>\n",
       "      <td>0</td>\n",
       "      <td>4</td>\n",
       "      <td>12.666667</td>\n",
       "      <td>12.0</td>\n",
       "      <td>7</td>\n",
       "      <td>20</td>\n",
       "      <td>6.166667</td>\n",
       "      <td>6.5</td>\n",
       "      <td>2.0</td>\n",
       "      <td>9.0</td>\n",
       "    </tr>\n",
       "    <tr>\n",
       "      <th>6046</th>\n",
       "      <th>Boneless Skinless Chicken Breast</th>\n",
       "      <th>12</th>\n",
       "      <th>married with dependants</th>\n",
       "      <th>middle-aged adult</th>\n",
       "      <th>lowest income</th>\n",
       "      <td>1.900000</td>\n",
       "      <td>1.0</td>\n",
       "      <td>0</td>\n",
       "      <td>5</td>\n",
       "      <td>13.000000</td>\n",
       "      <td>12.5</td>\n",
       "      <td>7</td>\n",
       "      <td>22</td>\n",
       "      <td>7.400000</td>\n",
       "      <td>7.0</td>\n",
       "      <td>2.0</td>\n",
       "      <td>15.0</td>\n",
       "    </tr>\n",
       "    <tr>\n",
       "      <th>6970</th>\n",
       "      <th>Organic Chocolate Chip Cookie Dough Ice Cream</th>\n",
       "      <th>1</th>\n",
       "      <th>married with dependants</th>\n",
       "      <th>middle-aged adult</th>\n",
       "      <th>lowest income</th>\n",
       "      <td>2.000000</td>\n",
       "      <td>2.0</td>\n",
       "      <td>0</td>\n",
       "      <td>5</td>\n",
       "      <td>17.200000</td>\n",
       "      <td>16.0</td>\n",
       "      <td>15</td>\n",
       "      <td>22</td>\n",
       "      <td>7.250000</td>\n",
       "      <td>6.5</td>\n",
       "      <td>2.0</td>\n",
       "      <td>14.0</td>\n",
       "    </tr>\n",
       "    <tr>\n",
       "      <th>7649</th>\n",
       "      <th>Whole Wheat Tandoori Naan</th>\n",
       "      <th>3</th>\n",
       "      <th>married with dependants</th>\n",
       "      <th>middle-aged adult</th>\n",
       "      <th>lowest income</th>\n",
       "      <td>3.333333</td>\n",
       "      <td>4.0</td>\n",
       "      <td>1</td>\n",
       "      <td>5</td>\n",
       "      <td>17.666667</td>\n",
       "      <td>18.0</td>\n",
       "      <td>15</td>\n",
       "      <td>20</td>\n",
       "      <td>6.000000</td>\n",
       "      <td>6.0</td>\n",
       "      <td>4.0</td>\n",
       "      <td>8.0</td>\n",
       "    </tr>\n",
       "    <tr>\n",
       "      <th>9339</th>\n",
       "      <th>Organic Chicken &amp; Apple Sausage</th>\n",
       "      <th>12</th>\n",
       "      <th>married with dependants</th>\n",
       "      <th>middle-aged adult</th>\n",
       "      <th>lowest income</th>\n",
       "      <td>4.000000</td>\n",
       "      <td>4.0</td>\n",
       "      <td>3</td>\n",
       "      <td>5</td>\n",
       "      <td>9.000000</td>\n",
       "      <td>9.0</td>\n",
       "      <td>9</td>\n",
       "      <td>9</td>\n",
       "      <td>14.000000</td>\n",
       "      <td>14.0</td>\n",
       "      <td>4.0</td>\n",
       "      <td>24.0</td>\n",
       "    </tr>\n",
       "  </tbody>\n",
       "</table>\n",
       "<p>12196882 rows × 12 columns</p>\n",
       "</div>"
      ],
      "text/plain": [
       "                                                                                                                                       orders_day_of_week  \\\n",
       "                                                                                                                                                     mean   \n",
       "user_id product_id product_name                                  department_id family_status           age-group         income-group                       \n",
       "1       10258      Pistachios                                    19            married with dependants young adult       lowest income           2.555556   \n",
       "        10326      Organic Fuji Apples                           4             married with dependants young adult       lowest income           4.000000   \n",
       "        12427      Original Beef Jerky                           19            married with dependants young adult       lowest income           2.500000   \n",
       "        13032      Cinnamon Toast Crunch                         14            married with dependants young adult       lowest income           2.666667   \n",
       "        13176      Bag of Organic Bananas                        4             married with dependants young adult       lowest income           3.500000   \n",
       "...                                                                                                                                                   ...   \n",
       "99999   5876       Organic Lemon                                 4             married with dependants middle-aged adult lowest income           1.000000   \n",
       "        6046       Boneless Skinless Chicken Breast              12            married with dependants middle-aged adult lowest income           1.900000   \n",
       "        6970       Organic Chocolate Chip Cookie Dough Ice Cream 1             married with dependants middle-aged adult lowest income           2.000000   \n",
       "        7649       Whole Wheat Tandoori Naan                     3             married with dependants middle-aged adult lowest income           3.333333   \n",
       "        9339       Organic Chicken & Apple Sausage               12            married with dependants middle-aged adult lowest income           4.000000   \n",
       "\n",
       "                                                                                                                                               \\\n",
       "                                                                                                                                       median   \n",
       "user_id product_id product_name                                  department_id family_status           age-group         income-group           \n",
       "1       10258      Pistachios                                    19            married with dependants young adult       lowest income    3.0   \n",
       "        10326      Organic Fuji Apples                           4             married with dependants young adult       lowest income    4.0   \n",
       "        12427      Original Beef Jerky                           19            married with dependants young adult       lowest income    2.5   \n",
       "        13032      Cinnamon Toast Crunch                         14            married with dependants young adult       lowest income    3.0   \n",
       "        13176      Bag of Organic Bananas                        4             married with dependants young adult       lowest income    3.5   \n",
       "...                                                                                                                                       ...   \n",
       "99999   5876       Organic Lemon                                 4             married with dependants middle-aged adult lowest income    0.5   \n",
       "        6046       Boneless Skinless Chicken Breast              12            married with dependants middle-aged adult lowest income    1.0   \n",
       "        6970       Organic Chocolate Chip Cookie Dough Ice Cream 1             married with dependants middle-aged adult lowest income    2.0   \n",
       "        7649       Whole Wheat Tandoori Naan                     3             married with dependants middle-aged adult lowest income    4.0   \n",
       "        9339       Organic Chicken & Apple Sausage               12            married with dependants middle-aged adult lowest income    4.0   \n",
       "\n",
       "                                                                                                                                            \\\n",
       "                                                                                                                                       min   \n",
       "user_id product_id product_name                                  department_id family_status           age-group         income-group        \n",
       "1       10258      Pistachios                                    19            married with dependants young adult       lowest income   1   \n",
       "        10326      Organic Fuji Apples                           4             married with dependants young adult       lowest income   4   \n",
       "        12427      Original Beef Jerky                           19            married with dependants young adult       lowest income   1   \n",
       "        13032      Cinnamon Toast Crunch                         14            married with dependants young adult       lowest income   1   \n",
       "        13176      Bag of Organic Bananas                        4             married with dependants young adult       lowest income   3   \n",
       "...                                                                                                                                     ..   \n",
       "99999   5876       Organic Lemon                                 4             married with dependants middle-aged adult lowest income   0   \n",
       "        6046       Boneless Skinless Chicken Breast              12            married with dependants middle-aged adult lowest income   0   \n",
       "        6970       Organic Chocolate Chip Cookie Dough Ice Cream 1             married with dependants middle-aged adult lowest income   0   \n",
       "        7649       Whole Wheat Tandoori Naan                     3             married with dependants middle-aged adult lowest income   1   \n",
       "        9339       Organic Chicken & Apple Sausage               12            married with dependants middle-aged adult lowest income   3   \n",
       "\n",
       "                                                                                                                                            \\\n",
       "                                                                                                                                       max   \n",
       "user_id product_id product_name                                  department_id family_status           age-group         income-group        \n",
       "1       10258      Pistachios                                    19            married with dependants young adult       lowest income   4   \n",
       "        10326      Organic Fuji Apples                           4             married with dependants young adult       lowest income   4   \n",
       "        12427      Original Beef Jerky                           19            married with dependants young adult       lowest income   4   \n",
       "        13032      Cinnamon Toast Crunch                         14            married with dependants young adult       lowest income   4   \n",
       "        13176      Bag of Organic Bananas                        4             married with dependants young adult       lowest income   4   \n",
       "...                                                                                                                                     ..   \n",
       "99999   5876       Organic Lemon                                 4             married with dependants middle-aged adult lowest income   4   \n",
       "        6046       Boneless Skinless Chicken Breast              12            married with dependants middle-aged adult lowest income   5   \n",
       "        6970       Organic Chocolate Chip Cookie Dough Ice Cream 1             married with dependants middle-aged adult lowest income   5   \n",
       "        7649       Whole Wheat Tandoori Naan                     3             married with dependants middle-aged adult lowest income   5   \n",
       "        9339       Organic Chicken & Apple Sausage               12            married with dependants middle-aged adult lowest income   5   \n",
       "\n",
       "                                                                                                                                       hour_of_day_ordered  \\\n",
       "                                                                                                                                                      mean   \n",
       "user_id product_id product_name                                  department_id family_status           age-group         income-group                        \n",
       "1       10258      Pistachios                                    19            married with dependants young adult       lowest income           10.555556   \n",
       "        10326      Organic Fuji Apples                           4             married with dependants young adult       lowest income           15.000000   \n",
       "        12427      Original Beef Jerky                           19            married with dependants young adult       lowest income           10.300000   \n",
       "        13032      Cinnamon Toast Crunch                         14            married with dependants young adult       lowest income            8.000000   \n",
       "        13176      Bag of Organic Bananas                        4             married with dependants young adult       lowest income           11.000000   \n",
       "...                                                                                                                                                    ...   \n",
       "99999   5876       Organic Lemon                                 4             married with dependants middle-aged adult lowest income           12.666667   \n",
       "        6046       Boneless Skinless Chicken Breast              12            married with dependants middle-aged adult lowest income           13.000000   \n",
       "        6970       Organic Chocolate Chip Cookie Dough Ice Cream 1             married with dependants middle-aged adult lowest income           17.200000   \n",
       "        7649       Whole Wheat Tandoori Naan                     3             married with dependants middle-aged adult lowest income           17.666667   \n",
       "        9339       Organic Chicken & Apple Sausage               12            married with dependants middle-aged adult lowest income            9.000000   \n",
       "\n",
       "                                                                                                                                               \\\n",
       "                                                                                                                                       median   \n",
       "user_id product_id product_name                                  department_id family_status           age-group         income-group           \n",
       "1       10258      Pistachios                                    19            married with dependants young adult       lowest income    9.0   \n",
       "        10326      Organic Fuji Apples                           4             married with dependants young adult       lowest income   15.0   \n",
       "        12427      Original Beef Jerky                           19            married with dependants young adult       lowest income    8.5   \n",
       "        13032      Cinnamon Toast Crunch                         14            married with dependants young adult       lowest income    8.0   \n",
       "        13176      Bag of Organic Bananas                        4             married with dependants young adult       lowest income   11.0   \n",
       "...                                                                                                                                       ...   \n",
       "99999   5876       Organic Lemon                                 4             married with dependants middle-aged adult lowest income   12.0   \n",
       "        6046       Boneless Skinless Chicken Breast              12            married with dependants middle-aged adult lowest income   12.5   \n",
       "        6970       Organic Chocolate Chip Cookie Dough Ice Cream 1             married with dependants middle-aged adult lowest income   16.0   \n",
       "        7649       Whole Wheat Tandoori Naan                     3             married with dependants middle-aged adult lowest income   18.0   \n",
       "        9339       Organic Chicken & Apple Sausage               12            married with dependants middle-aged adult lowest income    9.0   \n",
       "\n",
       "                                                                                                                                            \\\n",
       "                                                                                                                                       min   \n",
       "user_id product_id product_name                                  department_id family_status           age-group         income-group        \n",
       "1       10258      Pistachios                                    19            married with dependants young adult       lowest income   7   \n",
       "        10326      Organic Fuji Apples                           4             married with dependants young adult       lowest income  15   \n",
       "        12427      Original Beef Jerky                           19            married with dependants young adult       lowest income   7   \n",
       "        13032      Cinnamon Toast Crunch                         14            married with dependants young adult       lowest income   7   \n",
       "        13176      Bag of Organic Bananas                        4             married with dependants young adult       lowest income   7   \n",
       "...                                                                                                                                     ..   \n",
       "99999   5876       Organic Lemon                                 4             married with dependants middle-aged adult lowest income   7   \n",
       "        6046       Boneless Skinless Chicken Breast              12            married with dependants middle-aged adult lowest income   7   \n",
       "        6970       Organic Chocolate Chip Cookie Dough Ice Cream 1             married with dependants middle-aged adult lowest income  15   \n",
       "        7649       Whole Wheat Tandoori Naan                     3             married with dependants middle-aged adult lowest income  15   \n",
       "        9339       Organic Chicken & Apple Sausage               12            married with dependants middle-aged adult lowest income   9   \n",
       "\n",
       "                                                                                                                                            \\\n",
       "                                                                                                                                       max   \n",
       "user_id product_id product_name                                  department_id family_status           age-group         income-group        \n",
       "1       10258      Pistachios                                    19            married with dependants young adult       lowest income  16   \n",
       "        10326      Organic Fuji Apples                           4             married with dependants young adult       lowest income  15   \n",
       "        12427      Original Beef Jerky                           19            married with dependants young adult       lowest income  16   \n",
       "        13032      Cinnamon Toast Crunch                         14            married with dependants young adult       lowest income   9   \n",
       "        13176      Bag of Organic Bananas                        4             married with dependants young adult       lowest income  15   \n",
       "...                                                                                                                                     ..   \n",
       "99999   5876       Organic Lemon                                 4             married with dependants middle-aged adult lowest income  20   \n",
       "        6046       Boneless Skinless Chicken Breast              12            married with dependants middle-aged adult lowest income  22   \n",
       "        6970       Organic Chocolate Chip Cookie Dough Ice Cream 1             married with dependants middle-aged adult lowest income  22   \n",
       "        7649       Whole Wheat Tandoori Naan                     3             married with dependants middle-aged adult lowest income  20   \n",
       "        9339       Organic Chicken & Apple Sausage               12            married with dependants middle-aged adult lowest income   9   \n",
       "\n",
       "                                                                                                                                       days_since_prior_order  \\\n",
       "                                                                                                                                                         mean   \n",
       "user_id product_id product_name                                  department_id family_status           age-group         income-group                           \n",
       "1       10258      Pistachios                                    19            married with dependants young adult       lowest income              19.555556   \n",
       "        10326      Organic Fuji Apples                           4             married with dependants young adult       lowest income              28.000000   \n",
       "        12427      Original Beef Jerky                           19            married with dependants young adult       lowest income              19.555556   \n",
       "        13032      Cinnamon Toast Crunch                         14            married with dependants young adult       lowest income              21.666667   \n",
       "        13176      Bag of Organic Bananas                        4             married with dependants young adult       lowest income              21.500000   \n",
       "...                                                                                                                                                       ...   \n",
       "99999   5876       Organic Lemon                                 4             married with dependants middle-aged adult lowest income               6.166667   \n",
       "        6046       Boneless Skinless Chicken Breast              12            married with dependants middle-aged adult lowest income               7.400000   \n",
       "        6970       Organic Chocolate Chip Cookie Dough Ice Cream 1             married with dependants middle-aged adult lowest income               7.250000   \n",
       "        7649       Whole Wheat Tandoori Naan                     3             married with dependants middle-aged adult lowest income               6.000000   \n",
       "        9339       Organic Chicken & Apple Sausage               12            married with dependants middle-aged adult lowest income              14.000000   \n",
       "\n",
       "                                                                                                                                               \\\n",
       "                                                                                                                                       median   \n",
       "user_id product_id product_name                                  department_id family_status           age-group         income-group           \n",
       "1       10258      Pistachios                                    19            married with dependants young adult       lowest income   20.0   \n",
       "        10326      Organic Fuji Apples                           4             married with dependants young adult       lowest income   28.0   \n",
       "        12427      Original Beef Jerky                           19            married with dependants young adult       lowest income   20.0   \n",
       "        13032      Cinnamon Toast Crunch                         14            married with dependants young adult       lowest income   20.0   \n",
       "        13176      Bag of Organic Bananas                        4             married with dependants young adult       lowest income   21.5   \n",
       "...                                                                                                                                       ...   \n",
       "99999   5876       Organic Lemon                                 4             married with dependants middle-aged adult lowest income    6.5   \n",
       "        6046       Boneless Skinless Chicken Breast              12            married with dependants middle-aged adult lowest income    7.0   \n",
       "        6970       Organic Chocolate Chip Cookie Dough Ice Cream 1             married with dependants middle-aged adult lowest income    6.5   \n",
       "        7649       Whole Wheat Tandoori Naan                     3             married with dependants middle-aged adult lowest income    6.0   \n",
       "        9339       Organic Chicken & Apple Sausage               12            married with dependants middle-aged adult lowest income   14.0   \n",
       "\n",
       "                                                                                                                                              \\\n",
       "                                                                                                                                         min   \n",
       "user_id product_id product_name                                  department_id family_status           age-group         income-group          \n",
       "1       10258      Pistachios                                    19            married with dependants young adult       lowest income   0.0   \n",
       "        10326      Organic Fuji Apples                           4             married with dependants young adult       lowest income  28.0   \n",
       "        12427      Original Beef Jerky                           19            married with dependants young adult       lowest income   0.0   \n",
       "        13032      Cinnamon Toast Crunch                         14            married with dependants young adult       lowest income  15.0   \n",
       "        13176      Bag of Organic Bananas                        4             married with dependants young adult       lowest income  15.0   \n",
       "...                                                                                                                                      ...   \n",
       "99999   5876       Organic Lemon                                 4             married with dependants middle-aged adult lowest income   2.0   \n",
       "        6046       Boneless Skinless Chicken Breast              12            married with dependants middle-aged adult lowest income   2.0   \n",
       "        6970       Organic Chocolate Chip Cookie Dough Ice Cream 1             married with dependants middle-aged adult lowest income   2.0   \n",
       "        7649       Whole Wheat Tandoori Naan                     3             married with dependants middle-aged adult lowest income   4.0   \n",
       "        9339       Organic Chicken & Apple Sausage               12            married with dependants middle-aged adult lowest income   4.0   \n",
       "\n",
       "                                                                                                                                              \n",
       "                                                                                                                                         max  \n",
       "user_id product_id product_name                                  department_id family_status           age-group         income-group         \n",
       "1       10258      Pistachios                                    19            married with dependants young adult       lowest income  30.0  \n",
       "        10326      Organic Fuji Apples                           4             married with dependants young adult       lowest income  28.0  \n",
       "        12427      Original Beef Jerky                           19            married with dependants young adult       lowest income  30.0  \n",
       "        13032      Cinnamon Toast Crunch                         14            married with dependants young adult       lowest income  30.0  \n",
       "        13176      Bag of Organic Bananas                        4             married with dependants young adult       lowest income  28.0  \n",
       "...                                                                                                                                      ...  \n",
       "99999   5876       Organic Lemon                                 4             married with dependants middle-aged adult lowest income   9.0  \n",
       "        6046       Boneless Skinless Chicken Breast              12            married with dependants middle-aged adult lowest income  15.0  \n",
       "        6970       Organic Chocolate Chip Cookie Dough Ice Cream 1             married with dependants middle-aged adult lowest income  14.0  \n",
       "        7649       Whole Wheat Tandoori Naan                     3             married with dependants middle-aged adult lowest income   8.0  \n",
       "        9339       Organic Chicken & Apple Sausage               12            married with dependants middle-aged adult lowest income  24.0  \n",
       "\n",
       "[12196882 rows x 12 columns]"
      ]
     },
     "execution_count": 61,
     "metadata": {},
     "output_type": "execute_result"
    }
   ],
   "source": [
    "df_ords_prods_all.groupby(['user_id', 'product_id', 'product_name', 'department_id', 'family_status', 'age-group', 'income-group']).agg({'orders_day_of_week':['mean', 'median', 'min', 'max'], 'hour_of_day_ordered':['mean', 'median', 'min', 'max'], 'days_since_prior_order':['mean', 'median', 'min', 'max']})"
   ]
  },
  {
   "cell_type": "markdown",
   "id": "573120bc-6b48-4f7b-b3c0-714add7f9093",
   "metadata": {},
   "source": [
    "##Create a 70/30 sample"
   ]
  },
  {
   "cell_type": "code",
   "execution_count": 62,
   "id": "bbea251b-7407-426b-986b-8956ed14fe5b",
   "metadata": {},
   "outputs": [],
   "source": [
    "np.random.seed(4)\n",
    "dev=np.random.rand(len(df_ords_prods_all))<=0.7"
   ]
  },
  {
   "cell_type": "code",
   "execution_count": 63,
   "id": "9cece87e-e130-44ac-a6a3-2c3b15777b8a",
   "metadata": {},
   "outputs": [
    {
     "data": {
      "text/plain": [
       "array([False,  True, False, ...,  True,  True,  True])"
      ]
     },
     "execution_count": 63,
     "metadata": {},
     "output_type": "execute_result"
    }
   ],
   "source": [
    "dev"
   ]
  },
  {
   "cell_type": "code",
   "execution_count": 64,
   "id": "27756f65-fb48-4bb3-8ac0-66e3d765b227",
   "metadata": {},
   "outputs": [],
   "source": [
    "big=df_ords_prods_all[dev]"
   ]
  },
  {
   "cell_type": "code",
   "execution_count": 65,
   "id": "d8e9d0c6-ab44-40d0-8e90-29b1bbe294d9",
   "metadata": {},
   "outputs": [],
   "source": [
    "small=df_ords_prods_all[~dev]"
   ]
  },
  {
   "cell_type": "code",
   "execution_count": 66,
   "id": "accf7fbe-7de7-47f3-aaa0-128f083d275d",
   "metadata": {},
   "outputs": [
    {
     "data": {
      "text/plain": [
       "30964564"
      ]
     },
     "execution_count": 66,
     "metadata": {},
     "output_type": "execute_result"
    }
   ],
   "source": [
    "len(df_ords_prods_all)"
   ]
  },
  {
   "cell_type": "code",
   "execution_count": 67,
   "id": "5bb9bb13-22e6-4010-908b-eaa2bb377de9",
   "metadata": {},
   "outputs": [
    {
     "data": {
      "text/plain": [
       "30964564"
      ]
     },
     "execution_count": 67,
     "metadata": {},
     "output_type": "execute_result"
    }
   ],
   "source": [
    "len(big) + len(small)"
   ]
  },
  {
   "cell_type": "code",
   "execution_count": 68,
   "id": "af7fa1de-9ecc-48db-9335-9a9cbd00771c",
   "metadata": {},
   "outputs": [],
   "source": [
    "# Save a palette to a variable:\n",
    "palette = sns.color_palette('Greens_r', 10)"
   ]
  },
  {
   "cell_type": "code",
   "execution_count": 69,
   "id": "be2683d7-bbcb-4e68-a04b-c63c2b20fc20",
   "metadata": {},
   "outputs": [
    {
     "data": {
      "image/png": "[encoded data removed]",
      "text/plain": [
       "<Figure size 1000x100 with 1 Axes>"
      ]
     },
     "metadata": {},
     "output_type": "display_data"
    }
   ],
   "source": [
    "# Use palplot and pass in the variable:\n",
    "sns.palplot(palette)"
   ]
  },
  {
   "cell_type": "code",
   "execution_count": 70,
   "id": "5bf08e10-bbd0-49a9-aeb8-82a47b6d5d7c",
   "metadata": {},
   "outputs": [],
   "source": [
    "# Set the palette using the name of a palette:\n",
    "sns.set_palette('Greens_r', 10)"
   ]
  },
  {
   "cell_type": "code",
   "execution_count": 71,
   "id": "108b7173-a5a4-4240-a97e-1100855a3ec1",
   "metadata": {},
   "outputs": [
    {
     "data": {
      "image/png": "[encoded data removed]",
      "text/plain": [
       "<Figure size 1000x100 with 1 Axes>"
      ]
     },
     "metadata": {},
     "output_type": "display_data"
    }
   ],
   "source": [
    "diverging_colors = sns.color_palette('Greens', 10)\n",
    "sns.palplot(diverging_colors)"
   ]
  },
  {
   "cell_type": "code",
   "execution_count": 72,
   "id": "632ae1ff-2bf8-4a19-83bc-3d4b2b111c36",
   "metadata": {},
   "outputs": [
    {
     "data": {
      "image/png": "[encoded data removed]",
      "text/plain": [
       "<Figure size 1000x100 with 1 Axes>"
      ]
     },
     "metadata": {},
     "output_type": "display_data"
    }
   ],
   "source": [
    "qualitative_colors = sns.color_palette('Set3', 10)\n",
    "sns.palplot(qualitative_colors)"
   ]
  },
  {
   "cell_type": "code",
   "execution_count": 73,
   "id": "2b927fb3-7b5a-41a0-8899-fdababc1ba14",
   "metadata": {},
   "outputs": [
    {
     "name": "stderr",
     "output_type": "stream",
     "text": [
      "D:\\DataAlalytics\\Anaconda3\\Lib\\site-packages\\seaborn\\_oldcore.py:1498: FutureWarning: is_categorical_dtype is deprecated and will be removed in a future version. Use isinstance(dtype, CategoricalDtype) instead\n",
      "  if pd.api.types.is_categorical_dtype(vector):\n",
      "D:\\DataAlalytics\\Anaconda3\\Lib\\site-packages\\seaborn\\_oldcore.py:1498: FutureWarning: is_categorical_dtype is deprecated and will be removed in a future version. Use isinstance(dtype, CategoricalDtype) instead\n",
      "  if pd.api.types.is_categorical_dtype(vector):\n",
      "D:\\DataAlalytics\\Anaconda3\\Lib\\site-packages\\seaborn\\_oldcore.py:1119: FutureWarning: use_inf_as_na option is deprecated and will be removed in a future version. Convert inf values to NaN before operating instead.\n",
      "  with pd.option_context('mode.use_inf_as_na', True):\n",
      "D:\\DataAlalytics\\Anaconda3\\Lib\\site-packages\\seaborn\\_oldcore.py:1119: FutureWarning: use_inf_as_na option is deprecated and will be removed in a future version. Convert inf values to NaN before operating instead.\n",
      "  with pd.option_context('mode.use_inf_as_na', True):\n"
     ]
    },
    {
     "data": {
      "image/png": "[encoded data removed]",
      "text/plain": [
       "<Figure size 640x480 with 1 Axes>"
      ]
     },
     "metadata": {},
     "output_type": "display_data"
    }
   ],
   "source": [
    "#Key Question #2\n",
    "lineplot = sns.lineplot(data=df_ords_prods_all, x='hour_of_day_ordered', y='prices')"
   ]
  },
  {
   "cell_type": "code",
   "execution_count": 74,
   "id": "bb35066d-6f1c-4671-a3a0-976aaa3a2012",
   "metadata": {},
   "outputs": [],
   "source": [
    "#Export the lineplot\n",
    "lineplot.figure.savefig(os.path.join(path, '04 Analysis', 'Visualizations', 'lineplot_hour_of_day_ordered.png'))"
   ]
  },
  {
   "cell_type": "code",
   "execution_count": 75,
   "id": "aff620ea-12bb-4547-a25a-81ac362e8415",
   "metadata": {},
   "outputs": [
    {
     "name": "stderr",
     "output_type": "stream",
     "text": [
      "D:\\DataAlalytics\\Anaconda3\\Lib\\site-packages\\seaborn\\_oldcore.py:1498: FutureWarning: is_categorical_dtype is deprecated and will be removed in a future version. Use isinstance(dtype, CategoricalDtype) instead\n",
      "  if pd.api.types.is_categorical_dtype(vector):\n",
      "D:\\DataAlalytics\\Anaconda3\\Lib\\site-packages\\seaborn\\_oldcore.py:1119: FutureWarning: use_inf_as_na option is deprecated and will be removed in a future version. Convert inf values to NaN before operating instead.\n",
      "  with pd.option_context('mode.use_inf_as_na', True):\n"
     ]
    },
    {
     "data": {
      "image/png": "[encoded data removed]",
      "text/plain": [
       "<Figure size 640x480 with 1 Axes>"
      ]
     },
     "metadata": {},
     "output_type": "display_data"
    }
   ],
   "source": [
    "#Key Question #3\n",
    "hist = sns.histplot(data=df_ords_prods_all, x='prices', bins=70)"
   ]
  },
  {
   "cell_type": "code",
   "execution_count": 76,
   "id": "76e730a6-7522-494a-90ea-3ea65203f52b",
   "metadata": {},
   "outputs": [],
   "source": [
    "#Export the histogram\n",
    "hist.figure.savefig(os.path.join(path, '04 Analysis', 'Visualizations', 'histplot_prices.png'))"
   ]
  },
  {
   "cell_type": "code",
   "execution_count": 77,
   "id": "655bb4e5-d548-43b6-9bad-dfd47a8330fb",
   "metadata": {},
   "outputs": [],
   "source": [
    "#Export the dataframe as a pickle file.\n",
    "df_ords_prods_all.to_pickle(os.path.join(path, '02 Data', 'Prepared Data', 'orders_products_all_2.pkl'))"
   ]
  },
  {
   "cell_type": "code",
   "execution_count": null,
   "id": "613d3fe4-2d8a-4a00-acac-ce76e4338e78",
   "metadata": {},
   "outputs": [],
   "source": []
  }
 ],
 "metadata": {
  "kernelspec": {
   "display_name": "Python 3 (ipykernel)",
   "language": "python",
   "name": "python3"
  },
  "language_info": {
   "codemirror_mode": {
    "name": "ipython",
    "version": 3
   },
   "file_extension": ".py",
   "mimetype": "text/x-python",
   "name": "python",
   "nbconvert_exporter": "python",
   "pygments_lexer": "ipython3",
   "version": "3.11.5"
  }
 },
 "nbformat": 4,
 "nbformat_minor": 5
}
